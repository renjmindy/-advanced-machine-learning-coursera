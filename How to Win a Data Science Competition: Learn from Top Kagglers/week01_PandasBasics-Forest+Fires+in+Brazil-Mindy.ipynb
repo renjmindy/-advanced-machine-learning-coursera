{
 "cells": [
  {
   "cell_type": "markdown",
   "metadata": {},
   "source": [
    "Version 1.0.2"
   ]
  },
  {
   "cell_type": "markdown",
   "metadata": {},
   "source": [
    "# Pandas basics "
   ]
  },
  {
   "cell_type": "markdown",
   "metadata": {},
   "source": [
    "Hi! In this programming assignment you need to refresh your `pandas` knowledge. You will need to do several [`groupby`](https://pandas.pydata.org/pandas-docs/stable/generated/pandas.DataFrame.groupby.html)s and [`join`]()`s to solve the task. "
   ]
  },
  {
   "cell_type": "code",
   "execution_count": 1,
   "metadata": {
    "collapsed": true
   },
   "outputs": [],
   "source": [
    "import pandas as pd\n",
    "import numpy as np\n",
    "#import googletrans\n",
    "import os\n",
    "import matplotlib.pyplot as plt\n",
    "import matplotlib.pyplot as plt; plt.rcdefaults() \n",
    "%matplotlib inline "
   ]
  },
  {
   "cell_type": "code",
   "execution_count": 2,
   "metadata": {
    "collapsed": true
   },
   "outputs": [],
   "source": [
    "DATA_FOLDER = '../readonly/final_project_data/'"
   ]
  },
  {
   "cell_type": "markdown",
   "metadata": {},
   "source": [
    "I got a hold of a dataset (from Kaggle) of forest fires in Brazil, which houses the largest rainforest on Earth — Amazon. I didn’t want to be picky and so this dataset was a complete random choice.\n",
    "> About the data:\n",
    "* year is the year when the forest fire happened;\n",
    "* state is the Brazilian state;\n",
    "* month is the month when the forest fire happened;\n",
    "* number is the number of forest fires reported;\n",
    "\n",
    "date is the date when the forest fire was reported"
   ]
  },
  {
   "cell_type": "markdown",
   "metadata": {},
   "source": [
    "<ol start=\"1\">\n",
    "<li>Going through the csv file (amazon.csv), you notice that some numbers are in decimal. 2.588 numbers of forest fires doesn't make sense. That's because the decimal is how thousands are formatted. So, 2.588 means 2588 forest fires. This can easily be accounted for when reading the csv file.\n",
    "</li>\n",
    "</ol>\n",
    "\n",
    "<ol start=\"2\">\n",
    "<li>You’ll also notice that the month column is in Portuguese. There's an upcoming fix for that too.\n",
    "</li>\n",
    "</ol>\n",
    "\n",
    "<ol start=\"3\">\n",
    "<li>When I imported the file for the first time after downloading it, I got an error: UnicodeDecodeError: 'utf-8' codec can't decode byte in position : invalid continuation byte. To fix it, I opened the csv in Sublime Text and: Save with Encoding -> UTF-8. However, this caused errors in the date column. So, I simply opened up the original csv and exported it as csv. Weird but it worked.\n",
    "</li>\n",
    "</ol>"
   ]
  },
  {
   "cell_type": "markdown",
   "metadata": {},
   "source": [
    "Imports:\n",
    "For this project, I set up a virtual environment using virtualenv. Check out this post for all the steps. We’re using three major libraries: pandas, matplotlib, googletrans.\n",
    "!pip3 install the these packages (if you haven’t already) before importing them.\n",
    "\n",
    "> Read the data:\n",
    "Make sure amazon.csv is in your working directory. The thousands = \".\" parameter makes up for the decimal formatting."
   ]
  },
  {
   "cell_type": "code",
   "execution_count": 3,
   "metadata": {
    "collapsed": true
   },
   "outputs": [],
   "source": [
    "forests = pd.read_csv(os.path.join(DATA_FOLDER, 'amazon_update.csv'),thousands='.')"
   ]
  },
  {
   "cell_type": "markdown",
   "metadata": {},
   "source": [
    "# View the data:"
   ]
  },
  {
   "cell_type": "markdown",
   "metadata": {},
   "source": [
    "Let's start with a simple task. \n",
    "\n",
    "Gives a nice summary of the data. Such as the count of all the columns, the highest occurring value in each column (if applicable) and its frequency."
   ]
  },
  {
   "cell_type": "code",
   "execution_count": 4,
   "metadata": {},
   "outputs": [
    {
     "name": "stdout",
     "output_type": "stream",
     "text": [
      "(6454, 5)\n",
      "   year state    month  number        date\n",
      "0  1998  Acre  Janeiro       0  1998-01-01\n",
      "1  1999  Acre  Janeiro       0  1999-01-01\n",
      "2  2000  Acre  Janeiro       0  2000-01-01\n",
      "3  2001  Acre  Janeiro       0  2001-01-01\n",
      "4  2002  Acre  Janeiro       0  2002-01-01\n",
      "               year state    month        number        date\n",
      "count   6454.000000  6454     6454   6454.000000        6454\n",
      "unique          NaN    23       12           NaN          20\n",
      "top             NaN   Rio  Janeiro           NaN  2010-01-01\n",
      "freq            NaN   717      541           NaN         324\n",
      "mean    2007.461729   NaN      NaN    522.696312         NaN\n",
      "std        5.746654   NaN      NaN   1554.846486         NaN\n",
      "min     1998.000000   NaN      NaN      0.000000         NaN\n",
      "25%     2002.000000   NaN      NaN      9.000000         NaN\n",
      "50%     2007.000000   NaN      NaN     54.000000         NaN\n",
      "75%     2012.000000   NaN      NaN    269.000000         NaN\n",
      "max     2017.000000   NaN      NaN  25963.000000         NaN\n"
     ]
    }
   ],
   "source": [
    "# YOUR CODE GOES HERE\n",
    "print(forests.shape)\n",
    "print(forests.head())\n",
    "print(forests.describe(include=\"all\"))\n",
    "#print(forests.isna().sum()) # Check for any missing values"
   ]
  },
  {
   "cell_type": "markdown",
   "metadata": {},
   "source": [
    "# Break the dataset into smaller subsets:\n",
    "\n",
    "The first thought I had was to visualise the number of forest fires over the years, over the months. You need to be able to identify smaller pieces of the bigger picture.\n",
    "\n",
    "Let’s drop rows from the dataset that aren’t contributing to the number of forest fires. So, any row with number column value as 0, must be dropped. We first convert the 0s to NaN and then drop rows with NaN in the specific column number."
   ]
  },
  {
   "cell_type": "code",
   "execution_count": 5,
   "metadata": {},
   "outputs": [
    {
     "name": "stdout",
     "output_type": "stream",
     "text": [
      "               year state    month        number        date\n",
      "count   5837.000000  5837     5837   5837.000000        5837\n",
      "unique          NaN    23       12           NaN          20\n",
      "top             NaN   Rio  Outubro           NaN  2016-01-01\n",
      "freq            NaN   661      534           NaN         317\n",
      "mean    2007.834847   NaN      NaN    577.947918         NaN\n",
      "std        5.649076   NaN      NaN   1625.176973         NaN\n",
      "min     1998.000000   NaN      NaN      1.000000         NaN\n",
      "25%     2003.000000   NaN      NaN     16.000000         NaN\n",
      "50%     2008.000000   NaN      NaN     72.000000         NaN\n",
      "75%     2013.000000   NaN      NaN    334.000000         NaN\n",
      "max     2017.000000   NaN      NaN  25963.000000         NaN\n"
     ]
    }
   ],
   "source": [
    "# YOUR CODE GOES HERE\n",
    "forests = forests.replace(0, np.nan)\n",
    "forests_update = forests.dropna(subset=['number'])\n",
    "print(forests_update.describe(include= \"all\"))"
   ]
  },
  {
   "cell_type": "markdown",
   "metadata": {},
   "source": [
    "# Creating subset of data:"
   ]
  },
  {
   "cell_type": "code",
   "execution_count": 6,
   "metadata": {},
   "outputs": [
    {
     "name": "stdout",
     "output_type": "stream",
     "text": [
      "month\n",
      "Abril          28364.0\n",
      "Agosto        740841.0\n",
      "Dezembro      152596.0\n",
      "Fevereiro      30952.0\n",
      "Janeiro        52587.0\n",
      "Julho         217620.0\n",
      "Junho         111405.0\n",
      "Maio           46083.0\n",
      "Março          35118.0\n",
      "Novembro      312326.0\n",
      "Outubro       629665.0\n",
      "Setembro     1015925.0\n",
      "Name: number, dtype: float64\n",
      "['Janeiro', 'Fevereiro', 'Março', 'Abril', 'Maio', 'Junho', 'Julho', 'Agosto', 'Setembro', 'Outubro', 'Novembro', 'Dezembro']\n",
      "month\n",
      "Janeiro        52587.0\n",
      "Fevereiro      30952.0\n",
      "Março          35118.0\n",
      "Abril          28364.0\n",
      "Maio           46083.0\n",
      "Junho         111405.0\n",
      "Julho         217620.0\n",
      "Agosto        740841.0\n",
      "Setembro     1015925.0\n",
      "Outubro       629665.0\n",
      "Novembro      312326.0\n",
      "Dezembro      152596.0\n",
      "Name: number, dtype: float64\n",
      "            number\n",
      "month             \n",
      "Janeiro    52587.0\n",
      "Fevereiro  30952.0\n",
      "Março      35118.0\n",
      "Abril      28364.0\n",
      "Maio       46083.0\n",
      "        month     number\n",
      "0     Janeiro    52587.0\n",
      "1   Fevereiro    30952.0\n",
      "2       Março    35118.0\n",
      "3       Abril    28364.0\n",
      "4        Maio    46083.0\n",
      "5       Junho   111405.0\n",
      "6       Julho   217620.0\n",
      "7      Agosto   740841.0\n",
      "8    Setembro  1015925.0\n",
      "9     Outubro   629665.0\n",
      "10   Novembro   312326.0\n",
      "11   Dezembro   152596.0\n"
     ]
    }
   ],
   "source": [
    "# YOUR CODE GOES HERE\n",
    "# grouping the data by month and summing the numbers. The output is a pandas series.\n",
    "forest_fire_per_month = forests_update.groupby('month')['number'].sum()\n",
    "print(forest_fire_per_month)\n",
    "\n",
    "# we notice the result is in alphabetical order. To get it back to the monthly order, we use the reindex property of dataframes.\n",
    "months_unique = list(forests_update.month.unique())\n",
    "print(months_unique)\n",
    "forest_fire_per_month = forest_fire_per_month.reindex(months_unique) \n",
    "print(forest_fire_per_month)\n",
    "\n",
    "# Next we convert the series into a dataframe\n",
    "forest_fire_per_month = forest_fire_per_month.to_frame()\n",
    "print(forest_fire_per_month.head())\n",
    "\n",
    "# This doesn’t look right. That’s because month is being considered as the index of the dataframe.\n",
    "forest_fire_per_month.reset_index(level=0, inplace=True)\n",
    "print(forest_fire_per_month)"
   ]
  },
  {
   "cell_type": "markdown",
   "metadata": {},
   "source": []
  },
  {
   "cell_type": "code",
   "execution_count": null,
   "metadata": {},
   "outputs": [],
   "source": []
  },
  {
   "cell_type": "markdown",
   "metadata": {},
   "source": []
  },
  {
   "cell_type": "markdown",
   "metadata": {},
   "source": []
  },
  {
   "cell_type": "code",
   "execution_count": null,
   "metadata": {
    "collapsed": true
   },
   "outputs": [],
   "source": []
  },
  {
   "cell_type": "markdown",
   "metadata": {},
   "source": []
  },
  {
   "cell_type": "code",
   "execution_count": null,
   "metadata": {
    "collapsed": true
   },
   "outputs": [],
   "source": []
  },
  {
   "cell_type": "code",
   "execution_count": null,
   "metadata": {
    "collapsed": true
   },
   "outputs": [],
   "source": []
  },
  {
   "cell_type": "markdown",
   "metadata": {},
   "source": [
    "Well done! :)"
   ]
  }
 ],
 "metadata": {
  "hw_version": "1.0.0",
  "kernelspec": {
   "display_name": "Python 3",
   "language": "python",
   "name": "python3"
  },
  "language_info": {
   "codemirror_mode": {
    "name": "ipython",
    "version": 3
   },
   "file_extension": ".py",
   "mimetype": "text/x-python",
   "name": "python",
   "nbconvert_exporter": "python",
   "pygments_lexer": "ipython3",
   "version": "3.6.2"
  }
 },
 "nbformat": 4,
 "nbformat_minor": 2
}
